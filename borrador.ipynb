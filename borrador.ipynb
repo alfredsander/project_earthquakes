{
 "cells": [
  {
   "cell_type": "code",
   "execution_count": null,
   "metadata": {},
   "outputs": [],
   "source": [
    "#pip install geopy\n",
    "from geopy.geocoders import Nominatim\n",
    "\n",
    "pais = input(\"Escribe un país\")\n",
    "# Configura el geocodificador de OpenStreetMap\n",
    "geolocator = Nominatim(user_agent=\"Alfred_Sander\")\n",
    "\n",
    "# Nombre del país del que deseas obtener los límites\n",
    "country_name = pais\n",
    "\n",
    "# Utiliza geopy para buscar el país y obtener sus límites\n",
    "location = geolocator.geocode(country_name, exactly_one=True)\n",
    "if location:\n",
    "    print(f\"País: {location.address}\")\n",
    "    print(f\"Latitud máxima: {location.raw['boundingbox'][1]}\")\n",
    "    print(f\"Latitud mínima: {location.raw['boundingbox'][0]}\")\n",
    "    print(f\"Longitud máxima: {location.raw['boundingbox'][3]}\")\n",
    "    print(f\"Longitud mínima: {location.raw['boundingbox'][2]}\")\n",
    "else:\n",
    "    print(\"País no encontrado o límites no disponibles.\") "
   ]
  }
 ],
 "metadata": {
  "kernelspec": {
   "display_name": "Python 3",
   "language": "python",
   "name": "python3"
  },
  "language_info": {
   "codemirror_mode": {
    "name": "ipython",
    "version": 3
   },
   "file_extension": ".py",
   "mimetype": "text/x-python",
   "name": "python",
   "nbconvert_exporter": "python",
   "pygments_lexer": "ipython3",
   "version": "3.10.9"
  },
  "orig_nbformat": 4
 },
 "nbformat": 4,
 "nbformat_minor": 2
}
